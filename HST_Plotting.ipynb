{
 "cells": [
  {
   "cell_type": "code",
   "execution_count": null,
   "id": "52ca375d",
   "metadata": {},
   "outputs": [],
   "source": [
    "from astropy.io import fits\n",
    "import plotly.graph_objs as go\n",
    "\n",
    "d = fits.getdata('/Users/Aoife/Downloads/HST_data/HST_data/oe4v08020_x1d.fits', ext=1)\n",
    "\n",
    "fig = go.Figure()\n",
    "\n",
    "for i, order in enumerate(d):\n",
    "    fig.add_trace(\n",
    "        go.Scatter(x=order['WAVELENGTH'], y=order['FLUX'], mode='lines', name=f'Order {i+1}')\n",
    "    )\n",
    "\n",
    "fig.update_layout(\n",
    "    title='Hubble Space Telescope Spectrum',\n",
    "    xaxis_title='Wavelength (Å)',\n",
    "    yaxis_title='Flux (ergs / s / cm$^{2}$ / Å)',\n",
    "    hovermode='x'\n",
    ")\n",
    "\n",
    "fig.update_xaxes(\n",
    "    range=[1000, 2000],\n",
    "    type='linear'\n",
    ")\n",
    "\n",
    "fig.update_yaxes(\n",
    "    range=[0, 0.6e-10],\n",
    "    type='linear'\n",
    ")\n",
    "\n",
    "fig.show()"
   ]
  }
 ],
 "metadata": {
  "kernelspec": {
   "display_name": "Python 3 (ipykernel)",
   "language": "python",
   "name": "python3"
  },
  "language_info": {
   "codemirror_mode": {
    "name": "ipython",
    "version": 3
   },
   "file_extension": ".py",
   "mimetype": "text/x-python",
   "name": "python",
   "nbconvert_exporter": "python",
   "pygments_lexer": "ipython3",
   "version": "3.9.7"
  }
 },
 "nbformat": 4,
 "nbformat_minor": 5
}
