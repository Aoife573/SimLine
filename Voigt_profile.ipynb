{
 "cells": [
  {
   "cell_type": "code",
   "execution_count": null,
   "id": "f5c2a2ce",
   "metadata": {},
   "outputs": [],
   "source": [
    "from scipy.special import wofz\n",
    "from scipy.special import voigt_profile\n",
    "\n",
    "e=4.8e-10\n",
    "me=9.1e-28\n",
    "c = 2.99792458e10 # cm/s, speed of light\n",
    "k = 1.38064852e-16# cgs, Boltzmann constant\n",
    "m = 4.68e-23\n",
    "h = 6.62606876e-27  \n",
    "\n",
    "def line_model(Lambda, Lambda_array, Weight, Energy, f, cross_section, J, J_Level, log_N, T):\n",
    "    \n",
    "    freq  = c/Lambda_array\n",
    "    kT = (.695*T)\n",
    "    Z = np.sum(Weight*np.exp(-Energy/kT))\n",
    "    x = (Weight*np.exp(-Energy/kT))/Z\n",
    "   \n",
    "    N = float(10**log_N)\n",
    "    total_tau = 0\n",
    "    for i, item in enumerate(Lambda):\n",
    "        \n",
    "        freq_0 = c/item\n",
    "        \n",
    "        index = [(j) for j, items in enumerate(J_Level) if items == J[i]]\n",
    "        x_value = np.take(x, index)\n",
    "        f_value = np.take(f, index)\n",
    "        g=np.take(Weight, index)\n",
    "        doppler_width = ((freq_0/c)*(np.sqrt((2*k*T)/m)))\n",
    "        alpha = np.sqrt(np.log(2)) * doppler_width\n",
    "        A21=((8*(freq_0)**2*(np.pi)**2*(e**2))/(me*(c**3)))*(g)*f_value\n",
    "        gamma = A21/ (4*np.pi)\n",
    "        sigma = alpha / np.sqrt(2 * np.log(2))\n",
    "        line_profile = np.real(wofz(((freq-freq_0)+1j*gamma)/sigma/np.sqrt(2))) / sigma/np.sqrt(2*np.pi)\n",
    "        Depth = (N*cross_section[i]*x_value*line_profile)\n",
    "        total_tau+=Depth\n",
    "\n",
    "        Intensity = 1*(np.exp(-total_tau))\n",
    "    return(Intensity)\n"
   ]
  }
 ],
 "metadata": {
  "kernelspec": {
   "display_name": "Python 3 (ipykernel)",
   "language": "python",
   "name": "python3"
  },
  "language_info": {
   "codemirror_mode": {
    "name": "ipython",
    "version": 3
   },
   "file_extension": ".py",
   "mimetype": "text/x-python",
   "name": "python",
   "nbconvert_exporter": "python",
   "pygments_lexer": "ipython3",
   "version": "3.9.7"
  }
 },
 "nbformat": 4,
 "nbformat_minor": 5
}
